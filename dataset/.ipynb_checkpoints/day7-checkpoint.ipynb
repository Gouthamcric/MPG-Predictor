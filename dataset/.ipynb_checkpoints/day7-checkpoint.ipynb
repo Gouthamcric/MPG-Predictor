{
 "cells": [
  {
   "cell_type": "code",
   "execution_count": 1,
   "metadata": {},
   "outputs": [],
   "source": [
    "import numpy as np\n",
    "import pandas as pd\n",
    "from sklearn.preprocessing import LabelEncoder\n",
    "from sklearn.preprocessing import OneHotEncoder"
   ]
  },
  {
   "cell_type": "code",
   "execution_count": 2,
   "metadata": {},
   "outputs": [],
   "source": [
    "dataset=pd.read_csv(\"Churn_Modelling.csv\")"
   ]
  },
  {
   "cell_type": "code",
   "execution_count": 3,
   "metadata": {},
   "outputs": [
    {
     "data": {
      "text/html": [
       "<div>\n",
       "<style scoped>\n",
       "    .dataframe tbody tr th:only-of-type {\n",
       "        vertical-align: middle;\n",
       "    }\n",
       "\n",
       "    .dataframe tbody tr th {\n",
       "        vertical-align: top;\n",
       "    }\n",
       "\n",
       "    .dataframe thead th {\n",
       "        text-align: right;\n",
       "    }\n",
       "</style>\n",
       "<table border=\"1\" class=\"dataframe\">\n",
       "  <thead>\n",
       "    <tr style=\"text-align: right;\">\n",
       "      <th></th>\n",
       "      <th>RowNumber</th>\n",
       "      <th>CustomerId</th>\n",
       "      <th>Surname</th>\n",
       "      <th>CreditScore</th>\n",
       "      <th>Geography</th>\n",
       "      <th>Gender</th>\n",
       "      <th>Age</th>\n",
       "      <th>Tenure</th>\n",
       "      <th>Balance</th>\n",
       "      <th>NumOfProducts</th>\n",
       "      <th>HasCrCard</th>\n",
       "      <th>IsActiveMember</th>\n",
       "      <th>EstimatedSalary</th>\n",
       "      <th>Exited</th>\n",
       "    </tr>\n",
       "  </thead>\n",
       "  <tbody>\n",
       "    <tr>\n",
       "      <th>0</th>\n",
       "      <td>1</td>\n",
       "      <td>15634602</td>\n",
       "      <td>Hargrave</td>\n",
       "      <td>619.0</td>\n",
       "      <td>France</td>\n",
       "      <td>Female</td>\n",
       "      <td>42</td>\n",
       "      <td>2</td>\n",
       "      <td>0.00</td>\n",
       "      <td>1</td>\n",
       "      <td>1</td>\n",
       "      <td>1</td>\n",
       "      <td>101348.88</td>\n",
       "      <td>1</td>\n",
       "    </tr>\n",
       "    <tr>\n",
       "      <th>1</th>\n",
       "      <td>2</td>\n",
       "      <td>15647311</td>\n",
       "      <td>Hill</td>\n",
       "      <td>NaN</td>\n",
       "      <td>Spain</td>\n",
       "      <td>Female</td>\n",
       "      <td>41</td>\n",
       "      <td>1</td>\n",
       "      <td>83807.86</td>\n",
       "      <td>1</td>\n",
       "      <td>0</td>\n",
       "      <td>1</td>\n",
       "      <td>112542.58</td>\n",
       "      <td>0</td>\n",
       "    </tr>\n",
       "    <tr>\n",
       "      <th>2</th>\n",
       "      <td>3</td>\n",
       "      <td>15619304</td>\n",
       "      <td>Onio</td>\n",
       "      <td>NaN</td>\n",
       "      <td>France</td>\n",
       "      <td>Female</td>\n",
       "      <td>42</td>\n",
       "      <td>8</td>\n",
       "      <td>159660.80</td>\n",
       "      <td>3</td>\n",
       "      <td>1</td>\n",
       "      <td>0</td>\n",
       "      <td>113931.57</td>\n",
       "      <td>1</td>\n",
       "    </tr>\n",
       "    <tr>\n",
       "      <th>3</th>\n",
       "      <td>4</td>\n",
       "      <td>15701354</td>\n",
       "      <td>Boni</td>\n",
       "      <td>699.0</td>\n",
       "      <td>France</td>\n",
       "      <td>Female</td>\n",
       "      <td>39</td>\n",
       "      <td>1</td>\n",
       "      <td>0.00</td>\n",
       "      <td>2</td>\n",
       "      <td>0</td>\n",
       "      <td>0</td>\n",
       "      <td>93826.63</td>\n",
       "      <td>0</td>\n",
       "    </tr>\n",
       "    <tr>\n",
       "      <th>4</th>\n",
       "      <td>5</td>\n",
       "      <td>15737888</td>\n",
       "      <td>Mitchell</td>\n",
       "      <td>850.0</td>\n",
       "      <td>Spain</td>\n",
       "      <td>Female</td>\n",
       "      <td>43</td>\n",
       "      <td>2</td>\n",
       "      <td>125510.82</td>\n",
       "      <td>1</td>\n",
       "      <td>1</td>\n",
       "      <td>1</td>\n",
       "      <td>79084.10</td>\n",
       "      <td>0</td>\n",
       "    </tr>\n",
       "    <tr>\n",
       "      <th>...</th>\n",
       "      <td>...</td>\n",
       "      <td>...</td>\n",
       "      <td>...</td>\n",
       "      <td>...</td>\n",
       "      <td>...</td>\n",
       "      <td>...</td>\n",
       "      <td>...</td>\n",
       "      <td>...</td>\n",
       "      <td>...</td>\n",
       "      <td>...</td>\n",
       "      <td>...</td>\n",
       "      <td>...</td>\n",
       "      <td>...</td>\n",
       "      <td>...</td>\n",
       "    </tr>\n",
       "    <tr>\n",
       "      <th>9995</th>\n",
       "      <td>9996</td>\n",
       "      <td>15606229</td>\n",
       "      <td>Obijiaku</td>\n",
       "      <td>771.0</td>\n",
       "      <td>France</td>\n",
       "      <td>Male</td>\n",
       "      <td>39</td>\n",
       "      <td>5</td>\n",
       "      <td>0.00</td>\n",
       "      <td>2</td>\n",
       "      <td>1</td>\n",
       "      <td>0</td>\n",
       "      <td>96270.64</td>\n",
       "      <td>0</td>\n",
       "    </tr>\n",
       "    <tr>\n",
       "      <th>9996</th>\n",
       "      <td>9997</td>\n",
       "      <td>15569892</td>\n",
       "      <td>Johnstone</td>\n",
       "      <td>516.0</td>\n",
       "      <td>France</td>\n",
       "      <td>Male</td>\n",
       "      <td>35</td>\n",
       "      <td>10</td>\n",
       "      <td>57369.61</td>\n",
       "      <td>1</td>\n",
       "      <td>1</td>\n",
       "      <td>1</td>\n",
       "      <td>101699.77</td>\n",
       "      <td>0</td>\n",
       "    </tr>\n",
       "    <tr>\n",
       "      <th>9997</th>\n",
       "      <td>9998</td>\n",
       "      <td>15584532</td>\n",
       "      <td>Liu</td>\n",
       "      <td>709.0</td>\n",
       "      <td>France</td>\n",
       "      <td>Female</td>\n",
       "      <td>36</td>\n",
       "      <td>7</td>\n",
       "      <td>0.00</td>\n",
       "      <td>1</td>\n",
       "      <td>0</td>\n",
       "      <td>1</td>\n",
       "      <td>42085.58</td>\n",
       "      <td>1</td>\n",
       "    </tr>\n",
       "    <tr>\n",
       "      <th>9998</th>\n",
       "      <td>9999</td>\n",
       "      <td>15682355</td>\n",
       "      <td>Sabbatini</td>\n",
       "      <td>772.0</td>\n",
       "      <td>Germany</td>\n",
       "      <td>Male</td>\n",
       "      <td>42</td>\n",
       "      <td>3</td>\n",
       "      <td>75075.31</td>\n",
       "      <td>2</td>\n",
       "      <td>1</td>\n",
       "      <td>0</td>\n",
       "      <td>92888.52</td>\n",
       "      <td>1</td>\n",
       "    </tr>\n",
       "    <tr>\n",
       "      <th>9999</th>\n",
       "      <td>10000</td>\n",
       "      <td>15628319</td>\n",
       "      <td>Walker</td>\n",
       "      <td>792.0</td>\n",
       "      <td>France</td>\n",
       "      <td>Female</td>\n",
       "      <td>28</td>\n",
       "      <td>4</td>\n",
       "      <td>130142.79</td>\n",
       "      <td>1</td>\n",
       "      <td>1</td>\n",
       "      <td>0</td>\n",
       "      <td>38190.78</td>\n",
       "      <td>0</td>\n",
       "    </tr>\n",
       "  </tbody>\n",
       "</table>\n",
       "<p>10000 rows × 14 columns</p>\n",
       "</div>"
      ],
      "text/plain": [
       "      RowNumber  CustomerId    Surname  CreditScore Geography  Gender  Age  \\\n",
       "0             1    15634602   Hargrave        619.0    France  Female   42   \n",
       "1             2    15647311       Hill          NaN     Spain  Female   41   \n",
       "2             3    15619304       Onio          NaN    France  Female   42   \n",
       "3             4    15701354       Boni        699.0    France  Female   39   \n",
       "4             5    15737888   Mitchell        850.0     Spain  Female   43   \n",
       "...         ...         ...        ...          ...       ...     ...  ...   \n",
       "9995       9996    15606229   Obijiaku        771.0    France    Male   39   \n",
       "9996       9997    15569892  Johnstone        516.0    France    Male   35   \n",
       "9997       9998    15584532        Liu        709.0    France  Female   36   \n",
       "9998       9999    15682355  Sabbatini        772.0   Germany    Male   42   \n",
       "9999      10000    15628319     Walker        792.0    France  Female   28   \n",
       "\n",
       "      Tenure    Balance  NumOfProducts  HasCrCard  IsActiveMember  \\\n",
       "0          2       0.00              1          1               1   \n",
       "1          1   83807.86              1          0               1   \n",
       "2          8  159660.80              3          1               0   \n",
       "3          1       0.00              2          0               0   \n",
       "4          2  125510.82              1          1               1   \n",
       "...      ...        ...            ...        ...             ...   \n",
       "9995       5       0.00              2          1               0   \n",
       "9996      10   57369.61              1          1               1   \n",
       "9997       7       0.00              1          0               1   \n",
       "9998       3   75075.31              2          1               0   \n",
       "9999       4  130142.79              1          1               0   \n",
       "\n",
       "      EstimatedSalary  Exited  \n",
       "0           101348.88       1  \n",
       "1           112542.58       0  \n",
       "2           113931.57       1  \n",
       "3            93826.63       0  \n",
       "4            79084.10       0  \n",
       "...               ...     ...  \n",
       "9995         96270.64       0  \n",
       "9996        101699.77       0  \n",
       "9997         42085.58       1  \n",
       "9998         92888.52       1  \n",
       "9999         38190.78       0  \n",
       "\n",
       "[10000 rows x 14 columns]"
      ]
     },
     "execution_count": 3,
     "metadata": {},
     "output_type": "execute_result"
    }
   ],
   "source": [
    "dataset"
   ]
  },
  {
   "cell_type": "code",
   "execution_count": 4,
   "metadata": {},
   "outputs": [
    {
     "data": {
      "text/plain": [
       "RowNumber          False\n",
       "CustomerId         False\n",
       "Surname            False\n",
       "CreditScore         True\n",
       "Geography          False\n",
       "Gender             False\n",
       "Age                False\n",
       "Tenure             False\n",
       "Balance            False\n",
       "NumOfProducts      False\n",
       "HasCrCard          False\n",
       "IsActiveMember     False\n",
       "EstimatedSalary    False\n",
       "Exited             False\n",
       "dtype: bool"
      ]
     },
     "execution_count": 4,
     "metadata": {},
     "output_type": "execute_result"
    }
   ],
   "source": [
    "dataset.isnull().any()"
   ]
  },
  {
   "cell_type": "code",
   "execution_count": 5,
   "metadata": {},
   "outputs": [],
   "source": [
    "dataset.fillna(dataset[\"CreditScore\"].mean(),inplace=True)"
   ]
  },
  {
   "cell_type": "code",
   "execution_count": 6,
   "metadata": {},
   "outputs": [
    {
     "data": {
      "text/plain": [
       "RowNumber          False\n",
       "CustomerId         False\n",
       "Surname            False\n",
       "CreditScore        False\n",
       "Geography          False\n",
       "Gender             False\n",
       "Age                False\n",
       "Tenure             False\n",
       "Balance            False\n",
       "NumOfProducts      False\n",
       "HasCrCard          False\n",
       "IsActiveMember     False\n",
       "EstimatedSalary    False\n",
       "Exited             False\n",
       "dtype: bool"
      ]
     },
     "execution_count": 6,
     "metadata": {},
     "output_type": "execute_result"
    }
   ],
   "source": [
    "dataset.isnull().any()"
   ]
  },
  {
   "cell_type": "code",
   "execution_count": 7,
   "metadata": {},
   "outputs": [],
   "source": [
    "le=LabelEncoder()\n",
    "dataset['Geography']=le.fit_transform(dataset['Geography'])\n",
    "dataset['Gender']=le.fit_transform(dataset['Gender'])"
   ]
  },
  {
   "cell_type": "code",
   "execution_count": null,
   "metadata": {},
   "outputs": [],
   "source": []
  },
  {
   "cell_type": "code",
   "execution_count": 8,
   "metadata": {},
   "outputs": [],
   "source": [
    "x=dataset.iloc[:,3:13].values\n",
    "y=dataset.iloc[:,13].values"
   ]
  },
  {
   "cell_type": "code",
   "execution_count": 9,
   "metadata": {},
   "outputs": [
    {
     "data": {
      "text/plain": [
       "array([[6.1900000e+02, 0.0000000e+00, 0.0000000e+00, ..., 1.0000000e+00,\n",
       "        1.0000000e+00, 1.0134888e+05],\n",
       "       [6.5054791e+02, 2.0000000e+00, 0.0000000e+00, ..., 0.0000000e+00,\n",
       "        1.0000000e+00, 1.1254258e+05],\n",
       "       [6.5054791e+02, 0.0000000e+00, 0.0000000e+00, ..., 1.0000000e+00,\n",
       "        0.0000000e+00, 1.1393157e+05],\n",
       "       ...,\n",
       "       [7.0900000e+02, 0.0000000e+00, 0.0000000e+00, ..., 0.0000000e+00,\n",
       "        1.0000000e+00, 4.2085580e+04],\n",
       "       [7.7200000e+02, 1.0000000e+00, 1.0000000e+00, ..., 1.0000000e+00,\n",
       "        0.0000000e+00, 9.2888520e+04],\n",
       "       [7.9200000e+02, 0.0000000e+00, 0.0000000e+00, ..., 1.0000000e+00,\n",
       "        0.0000000e+00, 3.8190780e+04]])"
      ]
     },
     "execution_count": 9,
     "metadata": {},
     "output_type": "execute_result"
    }
   ],
   "source": [
    "x"
   ]
  },
  {
   "cell_type": "code",
   "execution_count": 10,
   "metadata": {},
   "outputs": [],
   "source": [
    "one = OneHotEncoder()\n",
    "z=one.fit_transform(x[:,1:2]).toarray()\n",
    "x=np.delete(x,1,axis=1)\n",
    "x=np.concatenate((z,x),axis=1)"
   ]
  },
  {
   "cell_type": "code",
   "execution_count": 11,
   "metadata": {},
   "outputs": [
    {
     "data": {
      "text/plain": [
       "array([[1.0000000e+00, 0.0000000e+00, 0.0000000e+00, ..., 1.0000000e+00,\n",
       "        1.0000000e+00, 1.0134888e+05],\n",
       "       [0.0000000e+00, 0.0000000e+00, 1.0000000e+00, ..., 0.0000000e+00,\n",
       "        1.0000000e+00, 1.1254258e+05],\n",
       "       [1.0000000e+00, 0.0000000e+00, 0.0000000e+00, ..., 1.0000000e+00,\n",
       "        0.0000000e+00, 1.1393157e+05],\n",
       "       ...,\n",
       "       [1.0000000e+00, 0.0000000e+00, 0.0000000e+00, ..., 0.0000000e+00,\n",
       "        1.0000000e+00, 4.2085580e+04],\n",
       "       [0.0000000e+00, 1.0000000e+00, 0.0000000e+00, ..., 1.0000000e+00,\n",
       "        0.0000000e+00, 9.2888520e+04],\n",
       "       [1.0000000e+00, 0.0000000e+00, 0.0000000e+00, ..., 1.0000000e+00,\n",
       "        0.0000000e+00, 3.8190780e+04]])"
      ]
     },
     "execution_count": 11,
     "metadata": {},
     "output_type": "execute_result"
    }
   ],
   "source": [
    "x"
   ]
  },
  {
   "cell_type": "code",
   "execution_count": 12,
   "metadata": {},
   "outputs": [
    {
     "data": {
      "text/plain": [
       "array([0.0000000e+00, 0.0000000e+00, 1.0000000e+00, 6.5054791e+02,\n",
       "       0.0000000e+00, 4.1000000e+01, 1.0000000e+00, 8.3807860e+04,\n",
       "       1.0000000e+00, 0.0000000e+00, 1.0000000e+00, 1.1254258e+05])"
      ]
     },
     "execution_count": 12,
     "metadata": {},
     "output_type": "execute_result"
    }
   ],
   "source": [
    "x[1,:]"
   ]
  },
  {
   "cell_type": "code",
   "execution_count": 13,
   "metadata": {},
   "outputs": [
    {
     "data": {
      "text/plain": [
       "(10000, 12)"
      ]
     },
     "execution_count": 13,
     "metadata": {},
     "output_type": "execute_result"
    }
   ],
   "source": [
    "x.shape"
   ]
  },
  {
   "cell_type": "code",
   "execution_count": 14,
   "metadata": {},
   "outputs": [],
   "source": [
    "x=x[:,1:]"
   ]
  },
  {
   "cell_type": "code",
   "execution_count": 15,
   "metadata": {},
   "outputs": [
    {
     "data": {
      "text/plain": [
       "(10000, 11)"
      ]
     },
     "execution_count": 15,
     "metadata": {},
     "output_type": "execute_result"
    }
   ],
   "source": [
    "x.shape"
   ]
  },
  {
   "cell_type": "code",
   "execution_count": 16,
   "metadata": {},
   "outputs": [],
   "source": [
    "from sklearn.model_selection import train_test_split\n",
    "x_train,x_test,y_train,y_test=train_test_split(x,y,test_size=0.2,random_state=0)"
   ]
  },
  {
   "cell_type": "code",
   "execution_count": 17,
   "metadata": {},
   "outputs": [
    {
     "data": {
      "text/plain": [
       "(8000, 11)"
      ]
     },
     "execution_count": 17,
     "metadata": {},
     "output_type": "execute_result"
    }
   ],
   "source": [
    "x_train.shape"
   ]
  },
  {
   "cell_type": "code",
   "execution_count": 18,
   "metadata": {},
   "outputs": [],
   "source": [
    "from sklearn.preprocessing import StandardScaler\n",
    "sc=StandardScaler()\n",
    "x_train=sc.fit_transform(x_train)\n",
    "x_test=sc.fit_transform(x_test)"
   ]
  },
  {
   "cell_type": "code",
   "execution_count": 19,
   "metadata": {},
   "outputs": [
    {
     "data": {
      "text/plain": [
       "(8000, 11)"
      ]
     },
     "execution_count": 19,
     "metadata": {},
     "output_type": "execute_result"
    }
   ],
   "source": [
    "x_train.shape"
   ]
  },
  {
   "cell_type": "code",
   "execution_count": 20,
   "metadata": {},
   "outputs": [
    {
     "name": "stderr",
     "output_type": "stream",
     "text": [
      "Using TensorFlow backend.\n",
      "C:\\Users\\Goutham N\\anaconda3\\lib\\site-packages\\tensorflow\\python\\framework\\dtypes.py:516: FutureWarning: Passing (type, 1) or '1type' as a synonym of type is deprecated; in a future version of numpy, it will be understood as (type, (1,)) / '(1,)type'.\n",
      "  _np_qint8 = np.dtype([(\"qint8\", np.int8, 1)])\n",
      "C:\\Users\\Goutham N\\anaconda3\\lib\\site-packages\\tensorflow\\python\\framework\\dtypes.py:517: FutureWarning: Passing (type, 1) or '1type' as a synonym of type is deprecated; in a future version of numpy, it will be understood as (type, (1,)) / '(1,)type'.\n",
      "  _np_quint8 = np.dtype([(\"quint8\", np.uint8, 1)])\n",
      "C:\\Users\\Goutham N\\anaconda3\\lib\\site-packages\\tensorflow\\python\\framework\\dtypes.py:518: FutureWarning: Passing (type, 1) or '1type' as a synonym of type is deprecated; in a future version of numpy, it will be understood as (type, (1,)) / '(1,)type'.\n",
      "  _np_qint16 = np.dtype([(\"qint16\", np.int16, 1)])\n",
      "C:\\Users\\Goutham N\\anaconda3\\lib\\site-packages\\tensorflow\\python\\framework\\dtypes.py:519: FutureWarning: Passing (type, 1) or '1type' as a synonym of type is deprecated; in a future version of numpy, it will be understood as (type, (1,)) / '(1,)type'.\n",
      "  _np_quint16 = np.dtype([(\"quint16\", np.uint16, 1)])\n",
      "C:\\Users\\Goutham N\\anaconda3\\lib\\site-packages\\tensorflow\\python\\framework\\dtypes.py:520: FutureWarning: Passing (type, 1) or '1type' as a synonym of type is deprecated; in a future version of numpy, it will be understood as (type, (1,)) / '(1,)type'.\n",
      "  _np_qint32 = np.dtype([(\"qint32\", np.int32, 1)])\n",
      "C:\\Users\\Goutham N\\anaconda3\\lib\\site-packages\\tensorflow\\python\\framework\\dtypes.py:525: FutureWarning: Passing (type, 1) or '1type' as a synonym of type is deprecated; in a future version of numpy, it will be understood as (type, (1,)) / '(1,)type'.\n",
      "  np_resource = np.dtype([(\"resource\", np.ubyte, 1)])\n",
      "C:\\Users\\Goutham N\\anaconda3\\lib\\site-packages\\tensorboard\\compat\\tensorflow_stub\\dtypes.py:541: FutureWarning: Passing (type, 1) or '1type' as a synonym of type is deprecated; in a future version of numpy, it will be understood as (type, (1,)) / '(1,)type'.\n",
      "  _np_qint8 = np.dtype([(\"qint8\", np.int8, 1)])\n",
      "C:\\Users\\Goutham N\\anaconda3\\lib\\site-packages\\tensorboard\\compat\\tensorflow_stub\\dtypes.py:542: FutureWarning: Passing (type, 1) or '1type' as a synonym of type is deprecated; in a future version of numpy, it will be understood as (type, (1,)) / '(1,)type'.\n",
      "  _np_quint8 = np.dtype([(\"quint8\", np.uint8, 1)])\n",
      "C:\\Users\\Goutham N\\anaconda3\\lib\\site-packages\\tensorboard\\compat\\tensorflow_stub\\dtypes.py:543: FutureWarning: Passing (type, 1) or '1type' as a synonym of type is deprecated; in a future version of numpy, it will be understood as (type, (1,)) / '(1,)type'.\n",
      "  _np_qint16 = np.dtype([(\"qint16\", np.int16, 1)])\n",
      "C:\\Users\\Goutham N\\anaconda3\\lib\\site-packages\\tensorboard\\compat\\tensorflow_stub\\dtypes.py:544: FutureWarning: Passing (type, 1) or '1type' as a synonym of type is deprecated; in a future version of numpy, it will be understood as (type, (1,)) / '(1,)type'.\n",
      "  _np_quint16 = np.dtype([(\"quint16\", np.uint16, 1)])\n",
      "C:\\Users\\Goutham N\\anaconda3\\lib\\site-packages\\tensorboard\\compat\\tensorflow_stub\\dtypes.py:545: FutureWarning: Passing (type, 1) or '1type' as a synonym of type is deprecated; in a future version of numpy, it will be understood as (type, (1,)) / '(1,)type'.\n",
      "  _np_qint32 = np.dtype([(\"qint32\", np.int32, 1)])\n",
      "C:\\Users\\Goutham N\\anaconda3\\lib\\site-packages\\tensorboard\\compat\\tensorflow_stub\\dtypes.py:550: FutureWarning: Passing (type, 1) or '1type' as a synonym of type is deprecated; in a future version of numpy, it will be understood as (type, (1,)) / '(1,)type'.\n",
      "  np_resource = np.dtype([(\"resource\", np.ubyte, 1)])\n"
     ]
    }
   ],
   "source": [
    "import keras\n",
    "from keras.models import Sequential\n",
    "from keras.layers import Dense"
   ]
  },
  {
   "cell_type": "code",
   "execution_count": 21,
   "metadata": {},
   "outputs": [
    {
     "name": "stdout",
     "output_type": "stream",
     "text": [
      "WARNING:tensorflow:From C:\\Users\\Goutham N\\anaconda3\\lib\\site-packages\\keras\\backend\\tensorflow_backend.py:74: The name tf.get_default_graph is deprecated. Please use tf.compat.v1.get_default_graph instead.\n",
      "\n"
     ]
    }
   ],
   "source": [
    "classifier = Sequential()"
   ]
  },
  {
   "cell_type": "code",
   "execution_count": 22,
   "metadata": {},
   "outputs": [
    {
     "name": "stderr",
     "output_type": "stream",
     "text": [
      "C:\\Users\\Goutham N\\anaconda3\\lib\\site-packages\\ipykernel_launcher.py:1: UserWarning: Update your `Dense` call to the Keras 2 API: `Dense(units=11, activation=\"relu\", kernel_initializer=\"uniform\")`\n",
      "  \"\"\"Entry point for launching an IPython kernel.\n"
     ]
    }
   ],
   "source": [
    "classifier.add(Dense(units=11,init = \"uniform\",activation=\"relu\"))"
   ]
  },
  {
   "cell_type": "code",
   "execution_count": 23,
   "metadata": {},
   "outputs": [
    {
     "name": "stderr",
     "output_type": "stream",
     "text": [
      "C:\\Users\\Goutham N\\anaconda3\\lib\\site-packages\\ipykernel_launcher.py:1: UserWarning: Update your `Dense` call to the Keras 2 API: `Dense(units=6, activation=\"relu\", kernel_initializer=\"uniform\")`\n",
      "  \"\"\"Entry point for launching an IPython kernel.\n"
     ]
    }
   ],
   "source": [
    "classifier.add(Dense(units=6,init=\"uniform\",activation=\"relu\"))"
   ]
  },
  {
   "cell_type": "code",
   "execution_count": 24,
   "metadata": {},
   "outputs": [
    {
     "name": "stderr",
     "output_type": "stream",
     "text": [
      "C:\\Users\\Goutham N\\anaconda3\\lib\\site-packages\\ipykernel_launcher.py:1: UserWarning: Update your `Dense` call to the Keras 2 API: `Dense(units=1, activation=\"sigmoid\", kernel_initializer=\"uniform\")`\n",
      "  \"\"\"Entry point for launching an IPython kernel.\n"
     ]
    }
   ],
   "source": [
    "classifier.add(Dense(units=1,init=\"uniform\",activation=\"sigmoid\"))"
   ]
  },
  {
   "cell_type": "code",
   "execution_count": 25,
   "metadata": {},
   "outputs": [
    {
     "name": "stdout",
     "output_type": "stream",
     "text": [
      "WARNING:tensorflow:From C:\\Users\\Goutham N\\anaconda3\\lib\\site-packages\\keras\\optimizers.py:790: The name tf.train.Optimizer is deprecated. Please use tf.compat.v1.train.Optimizer instead.\n",
      "\n"
     ]
    }
   ],
   "source": [
    "classifier.compile(optimizer = \"adam\",loss=\"binary_crossentropy\",metrics=[\"accuracy\"])"
   ]
  },
  {
   "cell_type": "code",
   "execution_count": 26,
   "metadata": {},
   "outputs": [
    {
     "name": "stdout",
     "output_type": "stream",
     "text": [
      "WARNING:tensorflow:From C:\\Users\\Goutham N\\anaconda3\\lib\\site-packages\\keras\\backend\\tensorflow_backend.py:517: The name tf.placeholder is deprecated. Please use tf.compat.v1.placeholder instead.\n",
      "\n",
      "WARNING:tensorflow:From C:\\Users\\Goutham N\\anaconda3\\lib\\site-packages\\keras\\backend\\tensorflow_backend.py:4138: The name tf.random_uniform is deprecated. Please use tf.random.uniform instead.\n",
      "\n",
      "WARNING:tensorflow:From C:\\Users\\Goutham N\\anaconda3\\lib\\site-packages\\keras\\backend\\tensorflow_backend.py:3376: The name tf.log is deprecated. Please use tf.math.log instead.\n",
      "\n",
      "WARNING:tensorflow:From C:\\Users\\Goutham N\\anaconda3\\lib\\site-packages\\tensorflow\\python\\ops\\nn_impl.py:180: add_dispatch_support.<locals>.wrapper (from tensorflow.python.ops.array_ops) is deprecated and will be removed in a future version.\n",
      "Instructions for updating:\n",
      "Use tf.where in 2.0, which has the same broadcast rule as np.where\n",
      "WARNING:tensorflow:From C:\\Users\\Goutham N\\anaconda3\\lib\\site-packages\\keras\\backend\\tensorflow_backend.py:986: The name tf.assign_add is deprecated. Please use tf.compat.v1.assign_add instead.\n",
      "\n",
      "Epoch 1/100\n",
      "8000/8000 [==============================] - 1s 72us/step - loss: 0.5029 - acc: 0.7954\n",
      "Epoch 2/100\n",
      "8000/8000 [==============================] - 0s 40us/step - loss: 0.4209 - acc: 0.7960\n",
      "Epoch 3/100\n",
      "8000/8000 [==============================] - 0s 40us/step - loss: 0.4123 - acc: 0.7960\n",
      "Epoch 4/100\n",
      "8000/8000 [==============================] - 0s 40us/step - loss: 0.4042 - acc: 0.8138\n",
      "Epoch 5/100\n",
      "8000/8000 [==============================] - 0s 42us/step - loss: 0.3966 - acc: 0.8287\n",
      "Epoch 6/100\n",
      "8000/8000 [==============================] - 0s 41us/step - loss: 0.3893 - acc: 0.8296\n",
      "Epoch 7/100\n",
      "8000/8000 [==============================] - 0s 42us/step - loss: 0.3842 - acc: 0.8321\n",
      "Epoch 8/100\n",
      "8000/8000 [==============================] - 0s 41us/step - loss: 0.3790 - acc: 0.8422\n",
      "Epoch 9/100\n",
      "8000/8000 [==============================] - 0s 41us/step - loss: 0.3746 - acc: 0.8438\n",
      "Epoch 10/100\n",
      "8000/8000 [==============================] - 0s 41us/step - loss: 0.3719 - acc: 0.8491\n",
      "Epoch 11/100\n",
      "8000/8000 [==============================] - 0s 41us/step - loss: 0.3683 - acc: 0.8488\n",
      "Epoch 12/100\n",
      "8000/8000 [==============================] - 0s 41us/step - loss: 0.3664 - acc: 0.8495\n",
      "Epoch 13/100\n",
      "8000/8000 [==============================] - ETA: 0s - loss: 0.3617 - acc: 0.853 - 0s 42us/step - loss: 0.3636 - acc: 0.8525\n",
      "Epoch 14/100\n",
      "8000/8000 [==============================] - 0s 40us/step - loss: 0.3619 - acc: 0.8525\n",
      "Epoch 15/100\n",
      "8000/8000 [==============================] - 0s 41us/step - loss: 0.3607 - acc: 0.8521\n",
      "Epoch 16/100\n",
      "8000/8000 [==============================] - 0s 41us/step - loss: 0.3593 - acc: 0.8551\n",
      "Epoch 17/100\n",
      "8000/8000 [==============================] - 0s 41us/step - loss: 0.3570 - acc: 0.8544\n",
      "Epoch 18/100\n",
      "8000/8000 [==============================] - 0s 41us/step - loss: 0.3577 - acc: 0.8545\n",
      "Epoch 19/100\n",
      "8000/8000 [==============================] - 0s 41us/step - loss: 0.3559 - acc: 0.8560\n",
      "Epoch 20/100\n",
      "8000/8000 [==============================] - 0s 43us/step - loss: 0.3552 - acc: 0.8550\n",
      "Epoch 21/100\n",
      "8000/8000 [==============================] - 0s 41us/step - loss: 0.3548 - acc: 0.8561\n",
      "Epoch 22/100\n",
      "8000/8000 [==============================] - 0s 41us/step - loss: 0.3533 - acc: 0.8586\n",
      "Epoch 23/100\n",
      "8000/8000 [==============================] - 0s 42us/step - loss: 0.3526 - acc: 0.8582\n",
      "Epoch 24/100\n",
      "8000/8000 [==============================] - 0s 41us/step - loss: 0.3525 - acc: 0.8553\n",
      "Epoch 25/100\n",
      "8000/8000 [==============================] - 0s 42us/step - loss: 0.3517 - acc: 0.8580\n",
      "Epoch 26/100\n",
      "8000/8000 [==============================] - 0s 41us/step - loss: 0.3508 - acc: 0.8584\n",
      "Epoch 27/100\n",
      "8000/8000 [==============================] - 0s 41us/step - loss: 0.3503 - acc: 0.8599\n",
      "Epoch 28/100\n",
      "8000/8000 [==============================] - 0s 41us/step - loss: 0.3497 - acc: 0.8581\n",
      "Epoch 29/100\n",
      "8000/8000 [==============================] - 0s 41us/step - loss: 0.3490 - acc: 0.8588\n",
      "Epoch 30/100\n",
      "8000/8000 [==============================] - 0s 41us/step - loss: 0.3497 - acc: 0.8581\n",
      "Epoch 31/100\n",
      "8000/8000 [==============================] - 0s 41us/step - loss: 0.3487 - acc: 0.8598\n",
      "Epoch 32/100\n",
      "8000/8000 [==============================] - 0s 41us/step - loss: 0.3483 - acc: 0.8616\n",
      "Epoch 33/100\n",
      "8000/8000 [==============================] - 0s 41us/step - loss: 0.3477 - acc: 0.8586\n",
      "Epoch 34/100\n",
      "8000/8000 [==============================] - 0s 41us/step - loss: 0.3478 - acc: 0.8595\n",
      "Epoch 35/100\n",
      "8000/8000 [==============================] - 0s 42us/step - loss: 0.3471 - acc: 0.8591\n",
      "Epoch 36/100\n",
      "8000/8000 [==============================] - 0s 41us/step - loss: 0.3462 - acc: 0.8612\n",
      "Epoch 37/100\n",
      "8000/8000 [==============================] - 0s 42us/step - loss: 0.3470 - acc: 0.8595\n",
      "Epoch 38/100\n",
      "8000/8000 [==============================] - 0s 41us/step - loss: 0.3463 - acc: 0.8576\n",
      "Epoch 39/100\n",
      "8000/8000 [==============================] - 0s 41us/step - loss: 0.3464 - acc: 0.8623\n",
      "Epoch 40/100\n",
      "8000/8000 [==============================] - 0s 41us/step - loss: 0.3466 - acc: 0.8623\n",
      "Epoch 41/100\n",
      "8000/8000 [==============================] - 0s 40us/step - loss: 0.3455 - acc: 0.8614\n",
      "Epoch 42/100\n",
      "8000/8000 [==============================] - 0s 40us/step - loss: 0.3462 - acc: 0.8588\n",
      "Epoch 43/100\n",
      "8000/8000 [==============================] - 0s 41us/step - loss: 0.3452 - acc: 0.8600\n",
      "Epoch 44/100\n",
      "8000/8000 [==============================] - 0s 41us/step - loss: 0.3455 - acc: 0.8599\n",
      "Epoch 45/100\n",
      "8000/8000 [==============================] - 0s 41us/step - loss: 0.3450 - acc: 0.8603\n",
      "Epoch 46/100\n",
      "8000/8000 [==============================] - 0s 41us/step - loss: 0.3453 - acc: 0.8629\n",
      "Epoch 47/100\n",
      "8000/8000 [==============================] - 0s 40us/step - loss: 0.3453 - acc: 0.8610\n",
      "Epoch 48/100\n",
      "8000/8000 [==============================] - 0s 41us/step - loss: 0.3457 - acc: 0.8610\n",
      "Epoch 49/100\n",
      "8000/8000 [==============================] - 0s 41us/step - loss: 0.3448 - acc: 0.8623\n",
      "Epoch 50/100\n",
      "8000/8000 [==============================] - 0s 42us/step - loss: 0.3445 - acc: 0.8606\n",
      "Epoch 51/100\n",
      "8000/8000 [==============================] - 0s 44us/step - loss: 0.3444 - acc: 0.8612\n",
      "Epoch 52/100\n",
      "8000/8000 [==============================] - 1s 72us/step - loss: 0.3446 - acc: 0.8608\n",
      "Epoch 53/100\n",
      "8000/8000 [==============================] - 0s 49us/step - loss: 0.3446 - acc: 0.8614\n",
      "Epoch 54/100\n",
      "8000/8000 [==============================] - 0s 58us/step - loss: 0.3441 - acc: 0.8609\n",
      "Epoch 55/100\n",
      "8000/8000 [==============================] - 0s 54us/step - loss: 0.3447 - acc: 0.8601\n",
      "Epoch 56/100\n",
      "8000/8000 [==============================] - 0s 41us/step - loss: 0.3444 - acc: 0.8609\n",
      "Epoch 57/100\n",
      "8000/8000 [==============================] - 0s 41us/step - loss: 0.3435 - acc: 0.8610\n",
      "Epoch 58/100\n",
      "8000/8000 [==============================] - 0s 41us/step - loss: 0.3437 - acc: 0.8595\n",
      "Epoch 59/100\n",
      "8000/8000 [==============================] - 1s 74us/step - loss: 0.3437 - acc: 0.8603\n",
      "Epoch 60/100\n",
      "8000/8000 [==============================] - 1s 68us/step - loss: 0.3435 - acc: 0.8616\n",
      "Epoch 61/100\n",
      "8000/8000 [==============================] - 1s 75us/step - loss: 0.3437 - acc: 0.8609\n",
      "Epoch 62/100\n",
      "8000/8000 [==============================] - 0s 53us/step - loss: 0.3437 - acc: 0.8621\n",
      "Epoch 63/100\n",
      "8000/8000 [==============================] - 1s 79us/step - loss: 0.3420 - acc: 0.8596\n",
      "Epoch 64/100\n",
      "8000/8000 [==============================] - 0s 55us/step - loss: 0.3427 - acc: 0.8605\n",
      "Epoch 65/100\n",
      "8000/8000 [==============================] - 0s 53us/step - loss: 0.3435 - acc: 0.8598\n",
      "Epoch 66/100\n",
      "8000/8000 [==============================] - 0s 47us/step - loss: 0.3424 - acc: 0.8605: 0s - loss: 0.3367 - acc: 0.86\n",
      "Epoch 67/100\n",
      "8000/8000 [==============================] - 1s 66us/step - loss: 0.3426 - acc: 0.8624\n",
      "Epoch 68/100\n",
      "8000/8000 [==============================] - 0s 46us/step - loss: 0.3426 - acc: 0.8610\n",
      "Epoch 69/100\n",
      "8000/8000 [==============================] - 0s 45us/step - loss: 0.3426 - acc: 0.8608\n",
      "Epoch 70/100\n",
      "8000/8000 [==============================] - 0s 44us/step - loss: 0.3431 - acc: 0.8601\n",
      "Epoch 71/100\n"
     ]
    },
    {
     "name": "stdout",
     "output_type": "stream",
     "text": [
      "8000/8000 [==============================] - 0s 44us/step - loss: 0.3426 - acc: 0.8584\n",
      "Epoch 72/100\n",
      "8000/8000 [==============================] - 0s 53us/step - loss: 0.3418 - acc: 0.8620\n",
      "Epoch 73/100\n",
      "8000/8000 [==============================] - 0s 48us/step - loss: 0.3432 - acc: 0.8612\n",
      "Epoch 74/100\n",
      "8000/8000 [==============================] - 0s 50us/step - loss: 0.3424 - acc: 0.8615\n",
      "Epoch 75/100\n",
      "8000/8000 [==============================] - 1s 67us/step - loss: 0.3423 - acc: 0.8601\n",
      "Epoch 76/100\n",
      "8000/8000 [==============================] - 1s 82us/step - loss: 0.3415 - acc: 0.8639\n",
      "Epoch 77/100\n",
      "8000/8000 [==============================] - 1s 78us/step - loss: 0.3419 - acc: 0.8636\n",
      "Epoch 78/100\n",
      "8000/8000 [==============================] - 0s 62us/step - loss: 0.3424 - acc: 0.8598\n",
      "Epoch 79/100\n",
      "8000/8000 [==============================] - 0s 52us/step - loss: 0.3423 - acc: 0.8621\n",
      "Epoch 80/100\n",
      "8000/8000 [==============================] - 0s 52us/step - loss: 0.3421 - acc: 0.8591\n",
      "Epoch 81/100\n",
      "8000/8000 [==============================] - 0s 45us/step - loss: 0.3421 - acc: 0.8639\n",
      "Epoch 82/100\n",
      "8000/8000 [==============================] - 0s 43us/step - loss: 0.3416 - acc: 0.8625\n",
      "Epoch 83/100\n",
      "8000/8000 [==============================] - 0s 43us/step - loss: 0.3416 - acc: 0.8621\n",
      "Epoch 84/100\n",
      "8000/8000 [==============================] - 0s 42us/step - loss: 0.3413 - acc: 0.8601\n",
      "Epoch 85/100\n",
      "8000/8000 [==============================] - 0s 45us/step - loss: 0.3417 - acc: 0.8620\n",
      "Epoch 86/100\n",
      "8000/8000 [==============================] - 0s 43us/step - loss: 0.3415 - acc: 0.8628\n",
      "Epoch 87/100\n",
      "8000/8000 [==============================] - 0s 43us/step - loss: 0.3414 - acc: 0.8617\n",
      "Epoch 88/100\n",
      "8000/8000 [==============================] - 0s 43us/step - loss: 0.3423 - acc: 0.8603\n",
      "Epoch 89/100\n",
      "8000/8000 [==============================] - 0s 43us/step - loss: 0.3414 - acc: 0.8605\n",
      "Epoch 90/100\n",
      "8000/8000 [==============================] - 0s 43us/step - loss: 0.3422 - acc: 0.8596\n",
      "Epoch 91/100\n",
      "8000/8000 [==============================] - 0s 42us/step - loss: 0.3409 - acc: 0.8638\n",
      "Epoch 92/100\n",
      "8000/8000 [==============================] - 0s 43us/step - loss: 0.3414 - acc: 0.8628\n",
      "Epoch 93/100\n",
      "8000/8000 [==============================] - 0s 43us/step - loss: 0.3413 - acc: 0.8623\n",
      "Epoch 94/100\n",
      "8000/8000 [==============================] - 0s 42us/step - loss: 0.3411 - acc: 0.8623\n",
      "Epoch 95/100\n",
      "8000/8000 [==============================] - 0s 49us/step - loss: 0.3411 - acc: 0.8616\n",
      "Epoch 96/100\n",
      "8000/8000 [==============================] - 0s 48us/step - loss: 0.3411 - acc: 0.8624\n",
      "Epoch 97/100\n",
      "8000/8000 [==============================] - 0s 44us/step - loss: 0.3414 - acc: 0.8617\n",
      "Epoch 98/100\n",
      "8000/8000 [==============================] - 0s 44us/step - loss: 0.3407 - acc: 0.8629\n",
      "Epoch 99/100\n",
      "8000/8000 [==============================] - 0s 46us/step - loss: 0.3412 - acc: 0.8599\n",
      "Epoch 100/100\n",
      "8000/8000 [==============================] - 0s 46us/step - loss: 0.3413 - acc: 0.8615\n"
     ]
    },
    {
     "data": {
      "text/plain": [
       "<keras.callbacks.History at 0x1413d02aec8>"
      ]
     },
     "execution_count": 26,
     "metadata": {},
     "output_type": "execute_result"
    }
   ],
   "source": [
    "classifier.fit(x_train,y_train,batch_size=16,epochs=100)"
   ]
  },
  {
   "cell_type": "code",
   "execution_count": 27,
   "metadata": {},
   "outputs": [],
   "source": [
    "y_pred=classifier.predict(x_test)"
   ]
  },
  {
   "cell_type": "code",
   "execution_count": 28,
   "metadata": {},
   "outputs": [],
   "source": [
    "y_pred=(y_pred>0.5)"
   ]
  },
  {
   "cell_type": "code",
   "execution_count": 29,
   "metadata": {},
   "outputs": [
    {
     "data": {
      "text/plain": [
       "array([[False],\n",
       "       [False],\n",
       "       [False],\n",
       "       ...,\n",
       "       [False],\n",
       "       [False],\n",
       "       [False]])"
      ]
     },
     "execution_count": 29,
     "metadata": {},
     "output_type": "execute_result"
    }
   ],
   "source": [
    "y_pred"
   ]
  },
  {
   "cell_type": "code",
   "execution_count": 30,
   "metadata": {},
   "outputs": [
    {
     "data": {
      "text/plain": [
       "array([0, 1, 0, ..., 0, 0, 0], dtype=int64)"
      ]
     },
     "execution_count": 30,
     "metadata": {},
     "output_type": "execute_result"
    }
   ],
   "source": [
    "y_test"
   ]
  },
  {
   "cell_type": "code",
   "execution_count": 31,
   "metadata": {},
   "outputs": [],
   "source": [
    "y_p =classifier.predict(sc.transform(np.array([[1,0,75,0,25,2,40000,4,1,1,50000]])))"
   ]
  },
  {
   "cell_type": "code",
   "execution_count": 32,
   "metadata": {},
   "outputs": [
    {
     "data": {
      "text/plain": [
       "array([[0.86486363]], dtype=float32)"
      ]
     },
     "execution_count": 32,
     "metadata": {},
     "output_type": "execute_result"
    }
   ],
   "source": [
    "y_p"
   ]
  },
  {
   "cell_type": "code",
   "execution_count": 33,
   "metadata": {},
   "outputs": [],
   "source": [
    "y_p=y_p>0.5"
   ]
  },
  {
   "cell_type": "code",
   "execution_count": 34,
   "metadata": {},
   "outputs": [
    {
     "data": {
      "text/plain": [
       "array([[ True]])"
      ]
     },
     "execution_count": 34,
     "metadata": {},
     "output_type": "execute_result"
    }
   ],
   "source": [
    "y_p"
   ]
  },
  {
   "cell_type": "code",
   "execution_count": 35,
   "metadata": {},
   "outputs": [],
   "source": [
    "from sklearn.metrics import accuracy_score\n",
    "accuracy = accuracy_score(y_pred,y_test)"
   ]
  },
  {
   "cell_type": "code",
   "execution_count": 36,
   "metadata": {},
   "outputs": [
    {
     "data": {
      "text/plain": [
       "0.853"
      ]
     },
     "execution_count": 36,
     "metadata": {},
     "output_type": "execute_result"
    }
   ],
   "source": [
    "accuracy"
   ]
  },
  {
   "cell_type": "code",
   "execution_count": 37,
   "metadata": {},
   "outputs": [],
   "source": [
    "from sklearn.metrics import confusion_matrix\n",
    "cm=confusion_matrix(y_test,y_pred)"
   ]
  },
  {
   "cell_type": "code",
   "execution_count": 38,
   "metadata": {},
   "outputs": [
    {
     "data": {
      "text/plain": [
       "array([[1513,   82],\n",
       "       [ 212,  193]], dtype=int64)"
      ]
     },
     "execution_count": 38,
     "metadata": {},
     "output_type": "execute_result"
    }
   ],
   "source": [
    "cm"
   ]
  },
  {
   "cell_type": "code",
   "execution_count": 39,
   "metadata": {},
   "outputs": [],
   "source": [
    "classifier.save(\"churn_modelling.h5\")"
   ]
  },
  {
   "cell_type": "code",
   "execution_count": null,
   "metadata": {},
   "outputs": [],
   "source": []
  }
 ],
 "metadata": {
  "kernelspec": {
   "display_name": "Python 3",
   "language": "python",
   "name": "python3"
  },
  "language_info": {
   "codemirror_mode": {
    "name": "ipython",
    "version": 3
   },
   "file_extension": ".py",
   "mimetype": "text/x-python",
   "name": "python",
   "nbconvert_exporter": "python",
   "pygments_lexer": "ipython3",
   "version": "3.7.6"
  }
 },
 "nbformat": 4,
 "nbformat_minor": 4
}
